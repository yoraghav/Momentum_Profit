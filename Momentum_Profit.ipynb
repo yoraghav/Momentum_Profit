{
  "nbformat": 4,
  "nbformat_minor": 0,
  "metadata": {
    "colab": {
      "name": "momentum.ipynb",
      "provenance": []
    },
    "kernelspec": {
      "name": "python3",
      "display_name": "Python 3"
    },
    "language_info": {
      "name": "python"
    }
  },
  "cells": [
    {
      "cell_type": "code",
      "source": [
        "import pandas as pd\n",
        "import datetime as dt\n",
        "from pandas.tseries.offsets import MonthEnd\n",
        "import numpy as np\n",
        "from statistics import mean\n",
        "from math import floor"
      ],
      "metadata": {
        "id": "vuKCWPWSMWRX"
      },
      "execution_count": 1,
      "outputs": []
    },
    {
      "cell_type": "code",
      "source": [
        "#Importing data for NIFTY Tickers\n",
        "\n",
        "prices = pd.read_csv(\"Data.csv\").set_index('Date')\n",
        "prices.index = pd.to_datetime(prices.index)"
      ],
      "metadata": {
        "id": "GfIOMT4o0d7e"
      },
      "execution_count": 2,
      "outputs": []
    },
    {
      "cell_type": "code",
      "source": [
        "def Momentum_Profit(FormDate,Period):\n",
        "\n",
        "  prices_end = prices.loc[FormDate-MonthEnd(1)]\n",
        "  prices_begin = prices.loc[FormDate-MonthEnd(12)]\n",
        "\n",
        "  returns = prices_end/prices_begin-1\n",
        "  returns = returns.reset_index().dropna()\n",
        "  returns['quantiles'] = pd.qcut(returns.iloc[:,1],10,labels=False)\n",
        "\n",
        "  winners = returns[returns.quantiles==9]\n",
        "  winnerret = prices.loc[FormDate+MonthEnd(Period),winners['index']]/prices.loc[FormDate,winners['index']]\n",
        "  return np.mean(winnerret)"
      ],
      "metadata": {
        "id": "2R18wlmK8bBN"
      },
      "execution_count": 3,
      "outputs": []
    },
    {
      "cell_type": "code",
      "source": [
        "#backtesting for J=12\n",
        "\n",
        "J=12\n",
        "\n",
        "profits,dates,holding =[],[],[]\n",
        "for i in (1,3,6):\n",
        "  for j in prices.index[J:-i]: \n",
        "    profits.append(Momentum_Profit(j,i))\n",
        "    dates.append(j+MonthEnd(i))\n",
        "    holding.append(i)"
      ],
      "metadata": {
        "id": "y8Cm5gE7Chiz"
      },
      "execution_count": 4,
      "outputs": []
    },
    {
      "cell_type": "code",
      "source": [
        "frame = pd.DataFrame({'Momentum_Profits':profits,'Holding_Periods':holding},index=dates)\n",
        "final = frame.groupby('Holding_Periods').mean()\n",
        "\n",
        "for i in range(len(final)):\n",
        "  print(\"For Holding period \",str(final.index[i]),\" the average Momentum Profit is = \",str(final.iat[i,0]))"
      ],
      "metadata": {
        "id": "mLr9xsfEEtWq",
        "outputId": "e9e8b894-7cc4-400a-938f-d7333b61e045",
        "colab": {
          "base_uri": "https://localhost:8080/"
        }
      },
      "execution_count": 23,
      "outputs": [
        {
          "output_type": "stream",
          "name": "stdout",
          "text": [
            "For Holding period  1  the average Momentum Profit is =  1.0207364887018013\n",
            "For Holding period  3  the average Momentum Profit is =  1.0659668556544182\n",
            "For Holding period  6  the average Momentum Profit is =  1.1430777380190829\n"
          ]
        }
      ]
    }
  ]
}